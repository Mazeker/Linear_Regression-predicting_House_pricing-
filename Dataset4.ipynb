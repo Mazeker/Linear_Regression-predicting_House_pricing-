{
 "cells": [
  {
   "cell_type": "code",
   "execution_count": 12,
   "id": "b965253d",
   "metadata": {},
   "outputs": [],
   "source": [
    "import pandas as pd\n",
    "import numpy as np\n",
    "import matplotlib.pyplot as plt\n",
    "import seaborn as sns\n",
    "data=pd.read_csv(\"new.csv\")"
   ]
  },
  {
   "cell_type": "code",
   "execution_count": 13,
   "id": "0ca3198c",
   "metadata": {},
   "outputs": [
    {
     "name": "stdout",
     "output_type": "stream",
     "text": [
      "<class 'pandas.core.frame.DataFrame'>\n",
      "RangeIndex: 21609 entries, 0 to 21608\n",
      "Data columns (total 22 columns):\n",
      " #   Column                                     Non-Null Count  Dtype  \n",
      "---  ------                                     --------------  -----  \n",
      " 0   Unnamed: 0                                 21609 non-null  int64  \n",
      " 1   ID                                         21609 non-null  int64  \n",
      " 2   Date House was Sold                        21609 non-null  object \n",
      " 3   Sale Price                                 21609 non-null  float64\n",
      " 4   No of Bedrooms                             21609 non-null  int64  \n",
      " 5   No of Bathrooms                            21605 non-null  float64\n",
      " 6   Flat Area (in Sqft)                        21600 non-null  float64\n",
      " 7   Lot Area (in Sqft)                         21600 non-null  float64\n",
      " 8   No of Floors                               21609 non-null  float64\n",
      " 9   Waterfront View                            21609 non-null  object \n",
      " 10  No of Times Visited                        21609 non-null  object \n",
      " 11  Condition of the House                     21609 non-null  object \n",
      " 12  Overall Grade                              21609 non-null  int64  \n",
      " 13  Area of the House from Basement (in Sqft)  21606 non-null  float64\n",
      " 14  Basement Area (in Sqft)                    21609 non-null  int64  \n",
      " 15  Age of House (in Years)                    21609 non-null  int64  \n",
      " 16  Renovated Year                             21609 non-null  int64  \n",
      " 17  Zipcode                                    21608 non-null  float64\n",
      " 18  Latitude                                   21608 non-null  float64\n",
      " 19  Longitude                                  21608 non-null  float64\n",
      " 20  Living Area after Renovation (in Sqft)     21608 non-null  float64\n",
      " 21  Lot Area after Renovation (in Sqft)        21609 non-null  int64  \n",
      "dtypes: float64(10), int64(8), object(4)\n",
      "memory usage: 3.6+ MB\n"
     ]
    }
   ],
   "source": [
    "data.info()"
   ]
  },
  {
   "cell_type": "code",
   "execution_count": 14,
   "id": "eae201fd",
   "metadata": {},
   "outputs": [
    {
     "data": {
      "text/plain": [
       "0"
      ]
     },
     "execution_count": 14,
     "metadata": {},
     "output_type": "execute_result"
    }
   ],
   "source": [
    "data['Sale Price'].isnull().sum()"
   ]
  },
  {
   "cell_type": "code",
   "execution_count": 15,
   "id": "6ec6a25c",
   "metadata": {},
   "outputs": [],
   "source": [
    "numerical_columns=['No of Bathrooms','Flat Area (in Sqft)','Lot Area (in Sqft)','Area of the House from Basement (in Sqft)',\n",
    "                   'Zipcode','Latitude','Longitude','Living Area after Renovation (in Sqft)']"
   ]
  },
  {
   "cell_type": "code",
   "execution_count": 16,
   "id": "47f70803",
   "metadata": {},
   "outputs": [],
   "source": [
    "from sklearn.impute import SimpleImputer\n",
    "imputer=SimpleImputer(missing_values=np.nan,strategy='median')\n",
    "data[numerical_columns]=imputer.fit_transform(data[numerical_columns])"
   ]
  },
  {
   "cell_type": "code",
   "execution_count": 17,
   "id": "387139db",
   "metadata": {},
   "outputs": [
    {
     "name": "stdout",
     "output_type": "stream",
     "text": [
      "<class 'pandas.core.frame.DataFrame'>\n",
      "RangeIndex: 21609 entries, 0 to 21608\n",
      "Data columns (total 22 columns):\n",
      " #   Column                                     Non-Null Count  Dtype  \n",
      "---  ------                                     --------------  -----  \n",
      " 0   Unnamed: 0                                 21609 non-null  int64  \n",
      " 1   ID                                         21609 non-null  int64  \n",
      " 2   Date House was Sold                        21609 non-null  object \n",
      " 3   Sale Price                                 21609 non-null  float64\n",
      " 4   No of Bedrooms                             21609 non-null  int64  \n",
      " 5   No of Bathrooms                            21609 non-null  float64\n",
      " 6   Flat Area (in Sqft)                        21609 non-null  float64\n",
      " 7   Lot Area (in Sqft)                         21609 non-null  float64\n",
      " 8   No of Floors                               21609 non-null  float64\n",
      " 9   Waterfront View                            21609 non-null  object \n",
      " 10  No of Times Visited                        21609 non-null  object \n",
      " 11  Condition of the House                     21609 non-null  object \n",
      " 12  Overall Grade                              21609 non-null  int64  \n",
      " 13  Area of the House from Basement (in Sqft)  21609 non-null  float64\n",
      " 14  Basement Area (in Sqft)                    21609 non-null  int64  \n",
      " 15  Age of House (in Years)                    21609 non-null  int64  \n",
      " 16  Renovated Year                             21609 non-null  int64  \n",
      " 17  Zipcode                                    21609 non-null  float64\n",
      " 18  Latitude                                   21609 non-null  float64\n",
      " 19  Longitude                                  21609 non-null  float64\n",
      " 20  Living Area after Renovation (in Sqft)     21609 non-null  float64\n",
      " 21  Lot Area after Renovation (in Sqft)        21609 non-null  int64  \n",
      "dtypes: float64(10), int64(8), object(4)\n",
      "memory usage: 3.6+ MB\n"
     ]
    }
   ],
   "source": [
    "data.info()"
   ]
  },
  {
   "cell_type": "code",
   "execution_count": null,
   "id": "50b916e6",
   "metadata": {},
   "outputs": [],
   "source": []
  },
  {
   "cell_type": "code",
   "execution_count": 18,
   "id": "9b263301",
   "metadata": {},
   "outputs": [
    {
     "data": {
      "text/plain": [
       "(21609,)"
      ]
     },
     "execution_count": 18,
     "metadata": {},
     "output_type": "execute_result"
    }
   ],
   "source": [
    "data['Zipcode'].shape"
   ]
  },
  {
   "cell_type": "code",
   "execution_count": 19,
   "id": "8c0add69",
   "metadata": {},
   "outputs": [
    {
     "data": {
      "text/plain": [
       "(21609, 1)"
      ]
     },
     "execution_count": 19,
     "metadata": {},
     "output_type": "execute_result"
    }
   ],
   "source": [
    "column=data['Zipcode'].values.reshape(-1,1)\n",
    "column.shape"
   ]
  },
  {
   "cell_type": "code",
   "execution_count": 20,
   "id": "aa6b8afc",
   "metadata": {},
   "outputs": [],
   "source": [
    "column=data['Zipcode'].values.reshape(-1,1)\n",
    "imputer=SimpleImputer(missing_values=np.nan,strategy='most_frequent')\n",
    "data['Zipcode']=imputer.fit_transform(column)"
   ]
  },
  {
   "cell_type": "code",
   "execution_count": 21,
   "id": "118da443",
   "metadata": {},
   "outputs": [
    {
     "name": "stdout",
     "output_type": "stream",
     "text": [
      "<class 'pandas.core.frame.DataFrame'>\n",
      "RangeIndex: 21609 entries, 0 to 21608\n",
      "Data columns (total 22 columns):\n",
      " #   Column                                     Non-Null Count  Dtype  \n",
      "---  ------                                     --------------  -----  \n",
      " 0   Unnamed: 0                                 21609 non-null  int64  \n",
      " 1   ID                                         21609 non-null  int64  \n",
      " 2   Date House was Sold                        21609 non-null  object \n",
      " 3   Sale Price                                 21609 non-null  float64\n",
      " 4   No of Bedrooms                             21609 non-null  int64  \n",
      " 5   No of Bathrooms                            21609 non-null  float64\n",
      " 6   Flat Area (in Sqft)                        21609 non-null  float64\n",
      " 7   Lot Area (in Sqft)                         21609 non-null  float64\n",
      " 8   No of Floors                               21609 non-null  float64\n",
      " 9   Waterfront View                            21609 non-null  object \n",
      " 10  No of Times Visited                        21609 non-null  object \n",
      " 11  Condition of the House                     21609 non-null  object \n",
      " 12  Overall Grade                              21609 non-null  int64  \n",
      " 13  Area of the House from Basement (in Sqft)  21609 non-null  float64\n",
      " 14  Basement Area (in Sqft)                    21609 non-null  int64  \n",
      " 15  Age of House (in Years)                    21609 non-null  int64  \n",
      " 16  Renovated Year                             21609 non-null  int64  \n",
      " 17  Zipcode                                    21609 non-null  float64\n",
      " 18  Latitude                                   21609 non-null  float64\n",
      " 19  Longitude                                  21609 non-null  float64\n",
      " 20  Living Area after Renovation (in Sqft)     21609 non-null  float64\n",
      " 21  Lot Area after Renovation (in Sqft)        21609 non-null  int64  \n",
      "dtypes: float64(10), int64(8), object(4)\n",
      "memory usage: 3.6+ MB\n"
     ]
    }
   ],
   "source": [
    "data.info()"
   ]
  },
  {
   "cell_type": "code",
   "execution_count": 22,
   "id": "a02d0ebf",
   "metadata": {},
   "outputs": [],
   "source": [
    "data.to_csv(\"new2.csv\")"
   ]
  },
  {
   "cell_type": "code",
   "execution_count": null,
   "id": "4f897aee",
   "metadata": {},
   "outputs": [],
   "source": []
  },
  {
   "cell_type": "code",
   "execution_count": null,
   "id": "d79ac355",
   "metadata": {},
   "outputs": [],
   "source": []
  },
  {
   "cell_type": "code",
   "execution_count": null,
   "id": "0dfe708c",
   "metadata": {},
   "outputs": [],
   "source": []
  },
  {
   "cell_type": "code",
   "execution_count": null,
   "id": "ed77f1ab",
   "metadata": {},
   "outputs": [],
   "source": []
  }
 ],
 "metadata": {
  "kernelspec": {
   "display_name": "Python 3",
   "language": "python",
   "name": "python3"
  },
  "language_info": {
   "codemirror_mode": {
    "name": "ipython",
    "version": 3
   },
   "file_extension": ".py",
   "mimetype": "text/x-python",
   "name": "python",
   "nbconvert_exporter": "python",
   "pygments_lexer": "ipython3",
   "version": "3.8.8"
  }
 },
 "nbformat": 4,
 "nbformat_minor": 5
}
